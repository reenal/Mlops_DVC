{
 "cells": [
  {
   "cell_type": "code",
   "execution_count": null,
   "metadata": {},
   "outputs": [],
   "source": [
    "import pandas as pd"
   ]
  },
  {
   "cell_type": "markdown",
   "metadata": {},
   "source": [
    "Introduction About the Data :\n",
    "The dataset The goal is to predict price of given diamond (Regression Analysis).\n",
    "\n",
    "There are 10 independent variables (including id):\n",
    "\n",
    "id : unique identifier of each diamond\n",
    "\n",
    "carat : Carat (ct.) refers to the unique unit of weight measurement used exclusively to weigh gemstones and diamonds.\n",
    "\n",
    "cut : Quality of Diamond Cut\n",
    "\n",
    "color : Color of Diamond\n",
    "\n",
    "clarity : Diamond clarity is a measure of the purity and rarity of the stone, graded by the visibility of these characteristics under 10-power magnification.\n",
    "\n",
    "depth : The depth of diamond is its height (in millimeters) measured from the culet (bottom tip) to the table (flat, top surface)\n",
    "\n",
    "table : A diamond's table is the facet which can be seen when the stone is viewed face up.\n",
    "\n",
    "x : Diamond X dimension\n",
    "\n",
    "y : Diamond Y dimension\n",
    "\n",
    "x : Diamond Z dimension\n",
    "\n",
    "Target variable:\n",
    "\n",
    "price: Price of the given Diamond."
   ]
  },
  {
   "cell_type": "code",
   "execution_count": null,
   "metadata": {},
   "outputs": [],
   "source": [
    "data=pd.read_csv(\"/Users/reenal/personal/Mlops_DVC/archive/cubic_zirconia.csv\")"
   ]
  },
  {
   "cell_type": "code",
   "execution_count": null,
   "metadata": {},
   "outputs": [],
   "source": [
    "data.head(2)"
   ]
  },
  {
   "cell_type": "code",
   "execution_count": null,
   "metadata": {},
   "outputs": [],
   "source": [
    "data[\"color\"].value_counts()"
   ]
  },
  {
   "cell_type": "code",
   "execution_count": null,
   "metadata": {},
   "outputs": [],
   "source": [
    "data.sample(10)"
   ]
  },
  {
   "cell_type": "code",
   "execution_count": null,
   "metadata": {},
   "outputs": [],
   "source": [
    "data.isnull().sum()"
   ]
  },
  {
   "cell_type": "code",
   "execution_count": null,
   "metadata": {},
   "outputs": [],
   "source": [
    "data.size"
   ]
  },
  {
   "cell_type": "code",
   "execution_count": null,
   "metadata": {},
   "outputs": [],
   "source": [
    "data.shape"
   ]
  },
  {
   "cell_type": "code",
   "execution_count": null,
   "metadata": {},
   "outputs": [],
   "source": [
    "data.info()"
   ]
  },
  {
   "cell_type": "code",
   "execution_count": null,
   "metadata": {},
   "outputs": [],
   "source": [
    "data.columns"
   ]
  },
  {
   "cell_type": "code",
   "execution_count": null,
   "metadata": {},
   "outputs": [],
   "source": [
    "data.drop(labels=[\"id\"],axis=1,inplace=True)"
   ]
  },
  {
   "cell_type": "code",
   "execution_count": null,
   "metadata": {},
   "outputs": [],
   "source": [
    "data"
   ]
  },
  {
   "cell_type": "code",
   "execution_count": null,
   "metadata": {},
   "outputs": [],
   "source": [
    "data.duplicated().sum()"
   ]
  },
  {
   "cell_type": "code",
   "execution_count": null,
   "metadata": {},
   "outputs": [],
   "source": [
    "data.info()"
   ]
  },
  {
   "cell_type": "code",
   "execution_count": null,
   "metadata": {},
   "outputs": [],
   "source": [
    "cat_columns=data.columns[data.dtypes==\"object\"]"
   ]
  },
  {
   "cell_type": "code",
   "execution_count": null,
   "metadata": {},
   "outputs": [],
   "source": [
    "num_columns=data.columns[data.dtypes!=\"object\"]"
   ]
  },
  {
   "cell_type": "code",
   "execution_count": null,
   "metadata": {},
   "outputs": [],
   "source": [
    "data[num_columns].describe().T"
   ]
  },
  {
   "cell_type": "code",
   "execution_count": null,
   "metadata": {},
   "outputs": [],
   "source": [
    "data[cat_columns]"
   ]
  },
  {
   "cell_type": "code",
   "execution_count": null,
   "metadata": {},
   "outputs": [],
   "source": [
    "for col in cat_columns:\n",
    "    print(data[col].value_counts())\n",
    "    print(f\"here is the total count:{len(data[col].value_counts())}\")\n",
    "    print(\"=======================\")"
   ]
  },
  {
   "cell_type": "code",
   "execution_count": null,
   "metadata": {},
   "outputs": [],
   "source": [
    "data[num_columns]"
   ]
  },
  {
   "cell_type": "code",
   "execution_count": null,
   "metadata": {},
   "outputs": [],
   "source": [
    "import seaborn as sns\n",
    "import matplotlib.pyplot as plt\n",
    "plt.figure(figsize=(6,4))\n",
    "\n",
    "for col in num_columns:\n",
    "    sns.histplot(data=data,x=col,kde=True)\n",
    "    print(\"\\n\")\n",
    "    plt.show()"
   ]
  },
  {
   "cell_type": "code",
   "execution_count": null,
   "metadata": {},
   "outputs": [],
   "source": [
    "sns.heatmap(data[num_columns].corr(),annot=True)"
   ]
  },
  {
   "cell_type": "code",
   "execution_count": null,
   "metadata": {},
   "outputs": [],
   "source": [
    "data[cat_columns]"
   ]
  },
  {
   "cell_type": "code",
   "execution_count": null,
   "metadata": {},
   "outputs": [],
   "source": [
    "# it is a oridinal encoding\n",
    "cut_map={\"Fair\":1,\"Good\":2,\"Very Good\":3,\"Premium\":4,\"Ideal\":5}\n",
    "clarity_map = {\"I1\":1,\"SI2\":2 ,\"SI1\":3 ,\"VS2\":4 , \"VS1\":5 , \"VVS2\":6 , \"VVS1\":7 ,\"IF\":8}\n",
    "color_map = {\"D\":1 ,\"E\":2 ,\"F\":3 , \"G\":4 ,\"H\":5 , \"I\":6, \"J\":7}"
   ]
  },
  {
   "cell_type": "code",
   "execution_count": null,
   "metadata": {},
   "outputs": [],
   "source": [
    "data[\"cut\"]=data[\"cut\"].map(cut_map)\n",
    "data[\"clarity\"]=data[\"clarity\"].map(clarity_map)\n",
    "data[\"color\"]=data[\"color\"].map(color_map)"
   ]
  },
  {
   "cell_type": "code",
   "execution_count": null,
   "metadata": {},
   "outputs": [],
   "source": [
    "data"
   ]
  },
  {
   "cell_type": "code",
   "execution_count": 1,
   "metadata": {},
   "outputs": [],
   "source": [
    "import pandas as pd\n",
    "data=pd.read_csv(\"/Users/reenal/personal/Mlops_DVC/archive/cubic_zirconia.csv\")"
   ]
  },
  {
   "cell_type": "code",
   "execution_count": 2,
   "metadata": {},
   "outputs": [],
   "source": [
    "from sklearn.impute import SimpleImputer ## HAndling Missing Values\n",
    "from sklearn.preprocessing import StandardScaler # HAndling Feature Scaling\n",
    "from sklearn.preprocessing import OrdinalEncoder # Ordinal Encoding\n",
    "## pipelines\n",
    "from sklearn.pipeline import Pipeline\n",
    "from sklearn.compose import ColumnTransformer"
   ]
  },
  {
   "cell_type": "code",
   "execution_count": 3,
   "metadata": {},
   "outputs": [
    {
     "data": {
      "text/plain": [
       "Index(['Unnamed: 0', 'carat', 'cut', 'color', 'clarity', 'depth', 'table', 'x',\n",
       "       'y', 'z', 'price'],\n",
       "      dtype='object')"
      ]
     },
     "execution_count": 3,
     "metadata": {},
     "output_type": "execute_result"
    }
   ],
   "source": [
    "data.columns"
   ]
  },
  {
   "cell_type": "code",
   "execution_count": 4,
   "metadata": {},
   "outputs": [],
   "source": [
    "X=data.drop(labels=[\"price\"],axis=1)\n",
    "y=data[\"price\"]"
   ]
  },
  {
   "cell_type": "code",
   "execution_count": 5,
   "metadata": {},
   "outputs": [
    {
     "data": {
      "text/html": [
       "<div>\n",
       "<style scoped>\n",
       "    .dataframe tbody tr th:only-of-type {\n",
       "        vertical-align: middle;\n",
       "    }\n",
       "\n",
       "    .dataframe tbody tr th {\n",
       "        vertical-align: top;\n",
       "    }\n",
       "\n",
       "    .dataframe thead th {\n",
       "        text-align: right;\n",
       "    }\n",
       "</style>\n",
       "<table border=\"1\" class=\"dataframe\">\n",
       "  <thead>\n",
       "    <tr style=\"text-align: right;\">\n",
       "      <th></th>\n",
       "      <th>Unnamed: 0</th>\n",
       "      <th>carat</th>\n",
       "      <th>cut</th>\n",
       "      <th>color</th>\n",
       "      <th>clarity</th>\n",
       "      <th>depth</th>\n",
       "      <th>table</th>\n",
       "      <th>x</th>\n",
       "      <th>y</th>\n",
       "      <th>z</th>\n",
       "    </tr>\n",
       "  </thead>\n",
       "  <tbody>\n",
       "    <tr>\n",
       "      <th>0</th>\n",
       "      <td>1</td>\n",
       "      <td>0.30</td>\n",
       "      <td>Ideal</td>\n",
       "      <td>E</td>\n",
       "      <td>SI1</td>\n",
       "      <td>62.1</td>\n",
       "      <td>58.0</td>\n",
       "      <td>4.27</td>\n",
       "      <td>4.29</td>\n",
       "      <td>2.66</td>\n",
       "    </tr>\n",
       "    <tr>\n",
       "      <th>1</th>\n",
       "      <td>2</td>\n",
       "      <td>0.33</td>\n",
       "      <td>Premium</td>\n",
       "      <td>G</td>\n",
       "      <td>IF</td>\n",
       "      <td>60.8</td>\n",
       "      <td>58.0</td>\n",
       "      <td>4.42</td>\n",
       "      <td>4.46</td>\n",
       "      <td>2.70</td>\n",
       "    </tr>\n",
       "    <tr>\n",
       "      <th>2</th>\n",
       "      <td>3</td>\n",
       "      <td>0.90</td>\n",
       "      <td>Very Good</td>\n",
       "      <td>E</td>\n",
       "      <td>VVS2</td>\n",
       "      <td>62.2</td>\n",
       "      <td>60.0</td>\n",
       "      <td>6.04</td>\n",
       "      <td>6.12</td>\n",
       "      <td>3.78</td>\n",
       "    </tr>\n",
       "    <tr>\n",
       "      <th>3</th>\n",
       "      <td>4</td>\n",
       "      <td>0.42</td>\n",
       "      <td>Ideal</td>\n",
       "      <td>F</td>\n",
       "      <td>VS1</td>\n",
       "      <td>61.6</td>\n",
       "      <td>56.0</td>\n",
       "      <td>4.82</td>\n",
       "      <td>4.80</td>\n",
       "      <td>2.96</td>\n",
       "    </tr>\n",
       "    <tr>\n",
       "      <th>4</th>\n",
       "      <td>5</td>\n",
       "      <td>0.31</td>\n",
       "      <td>Ideal</td>\n",
       "      <td>F</td>\n",
       "      <td>VVS1</td>\n",
       "      <td>60.4</td>\n",
       "      <td>59.0</td>\n",
       "      <td>4.35</td>\n",
       "      <td>4.43</td>\n",
       "      <td>2.65</td>\n",
       "    </tr>\n",
       "    <tr>\n",
       "      <th>...</th>\n",
       "      <td>...</td>\n",
       "      <td>...</td>\n",
       "      <td>...</td>\n",
       "      <td>...</td>\n",
       "      <td>...</td>\n",
       "      <td>...</td>\n",
       "      <td>...</td>\n",
       "      <td>...</td>\n",
       "      <td>...</td>\n",
       "      <td>...</td>\n",
       "    </tr>\n",
       "    <tr>\n",
       "      <th>26962</th>\n",
       "      <td>26963</td>\n",
       "      <td>1.11</td>\n",
       "      <td>Premium</td>\n",
       "      <td>G</td>\n",
       "      <td>SI1</td>\n",
       "      <td>62.3</td>\n",
       "      <td>58.0</td>\n",
       "      <td>6.61</td>\n",
       "      <td>6.52</td>\n",
       "      <td>4.09</td>\n",
       "    </tr>\n",
       "    <tr>\n",
       "      <th>26963</th>\n",
       "      <td>26964</td>\n",
       "      <td>0.33</td>\n",
       "      <td>Ideal</td>\n",
       "      <td>H</td>\n",
       "      <td>IF</td>\n",
       "      <td>61.9</td>\n",
       "      <td>55.0</td>\n",
       "      <td>4.44</td>\n",
       "      <td>4.42</td>\n",
       "      <td>2.74</td>\n",
       "    </tr>\n",
       "    <tr>\n",
       "      <th>26964</th>\n",
       "      <td>26965</td>\n",
       "      <td>0.51</td>\n",
       "      <td>Premium</td>\n",
       "      <td>E</td>\n",
       "      <td>VS2</td>\n",
       "      <td>61.7</td>\n",
       "      <td>58.0</td>\n",
       "      <td>5.12</td>\n",
       "      <td>5.15</td>\n",
       "      <td>3.17</td>\n",
       "    </tr>\n",
       "    <tr>\n",
       "      <th>26965</th>\n",
       "      <td>26966</td>\n",
       "      <td>0.27</td>\n",
       "      <td>Very Good</td>\n",
       "      <td>F</td>\n",
       "      <td>VVS2</td>\n",
       "      <td>61.8</td>\n",
       "      <td>56.0</td>\n",
       "      <td>4.19</td>\n",
       "      <td>4.20</td>\n",
       "      <td>2.60</td>\n",
       "    </tr>\n",
       "    <tr>\n",
       "      <th>26966</th>\n",
       "      <td>26967</td>\n",
       "      <td>1.25</td>\n",
       "      <td>Premium</td>\n",
       "      <td>J</td>\n",
       "      <td>SI1</td>\n",
       "      <td>62.0</td>\n",
       "      <td>58.0</td>\n",
       "      <td>6.90</td>\n",
       "      <td>6.88</td>\n",
       "      <td>4.27</td>\n",
       "    </tr>\n",
       "  </tbody>\n",
       "</table>\n",
       "<p>26967 rows × 10 columns</p>\n",
       "</div>"
      ],
      "text/plain": [
       "       Unnamed: 0  carat        cut color clarity  depth  table     x     y  \\\n",
       "0               1   0.30      Ideal     E     SI1   62.1   58.0  4.27  4.29   \n",
       "1               2   0.33    Premium     G      IF   60.8   58.0  4.42  4.46   \n",
       "2               3   0.90  Very Good     E    VVS2   62.2   60.0  6.04  6.12   \n",
       "3               4   0.42      Ideal     F     VS1   61.6   56.0  4.82  4.80   \n",
       "4               5   0.31      Ideal     F    VVS1   60.4   59.0  4.35  4.43   \n",
       "...           ...    ...        ...   ...     ...    ...    ...   ...   ...   \n",
       "26962       26963   1.11    Premium     G     SI1   62.3   58.0  6.61  6.52   \n",
       "26963       26964   0.33      Ideal     H      IF   61.9   55.0  4.44  4.42   \n",
       "26964       26965   0.51    Premium     E     VS2   61.7   58.0  5.12  5.15   \n",
       "26965       26966   0.27  Very Good     F    VVS2   61.8   56.0  4.19  4.20   \n",
       "26966       26967   1.25    Premium     J     SI1   62.0   58.0  6.90  6.88   \n",
       "\n",
       "          z  \n",
       "0      2.66  \n",
       "1      2.70  \n",
       "2      3.78  \n",
       "3      2.96  \n",
       "4      2.65  \n",
       "...     ...  \n",
       "26962  4.09  \n",
       "26963  2.74  \n",
       "26964  3.17  \n",
       "26965  2.60  \n",
       "26966  4.27  \n",
       "\n",
       "[26967 rows x 10 columns]"
      ]
     },
     "execution_count": 5,
     "metadata": {},
     "output_type": "execute_result"
    }
   ],
   "source": [
    "X"
   ]
  },
  {
   "cell_type": "code",
   "execution_count": 6,
   "metadata": {},
   "outputs": [
    {
     "data": {
      "text/plain": [
       "0         499\n",
       "1         984\n",
       "2        6289\n",
       "3        1082\n",
       "4         779\n",
       "         ... \n",
       "26962    5408\n",
       "26963    1114\n",
       "26964    1656\n",
       "26965     682\n",
       "26966    5166\n",
       "Name: price, Length: 26967, dtype: int64"
      ]
     },
     "execution_count": 6,
     "metadata": {},
     "output_type": "execute_result"
    }
   ],
   "source": [
    "y"
   ]
  },
  {
   "cell_type": "code",
   "execution_count": 7,
   "metadata": {},
   "outputs": [
    {
     "name": "stdout",
     "output_type": "stream",
     "text": [
      "<class 'pandas.core.frame.DataFrame'>\n",
      "RangeIndex: 26967 entries, 0 to 26966\n",
      "Data columns (total 10 columns):\n",
      " #   Column      Non-Null Count  Dtype  \n",
      "---  ------      --------------  -----  \n",
      " 0   Unnamed: 0  26967 non-null  int64  \n",
      " 1   carat       26967 non-null  float64\n",
      " 2   cut         26967 non-null  object \n",
      " 3   color       26967 non-null  object \n",
      " 4   clarity     26967 non-null  object \n",
      " 5   depth       26270 non-null  float64\n",
      " 6   table       26967 non-null  float64\n",
      " 7   x           26967 non-null  float64\n",
      " 8   y           26967 non-null  float64\n",
      " 9   z           26967 non-null  float64\n",
      "dtypes: float64(6), int64(1), object(3)\n",
      "memory usage: 2.1+ MB\n"
     ]
    }
   ],
   "source": [
    "X.info()"
   ]
  },
  {
   "cell_type": "code",
   "execution_count": 8,
   "metadata": {},
   "outputs": [
    {
     "data": {
      "text/html": [
       "<div>\n",
       "<style scoped>\n",
       "    .dataframe tbody tr th:only-of-type {\n",
       "        vertical-align: middle;\n",
       "    }\n",
       "\n",
       "    .dataframe tbody tr th {\n",
       "        vertical-align: top;\n",
       "    }\n",
       "\n",
       "    .dataframe thead th {\n",
       "        text-align: right;\n",
       "    }\n",
       "</style>\n",
       "<table border=\"1\" class=\"dataframe\">\n",
       "  <thead>\n",
       "    <tr style=\"text-align: right;\">\n",
       "      <th></th>\n",
       "      <th>cut</th>\n",
       "      <th>color</th>\n",
       "      <th>clarity</th>\n",
       "    </tr>\n",
       "  </thead>\n",
       "  <tbody>\n",
       "    <tr>\n",
       "      <th>0</th>\n",
       "      <td>Ideal</td>\n",
       "      <td>E</td>\n",
       "      <td>SI1</td>\n",
       "    </tr>\n",
       "    <tr>\n",
       "      <th>1</th>\n",
       "      <td>Premium</td>\n",
       "      <td>G</td>\n",
       "      <td>IF</td>\n",
       "    </tr>\n",
       "    <tr>\n",
       "      <th>2</th>\n",
       "      <td>Very Good</td>\n",
       "      <td>E</td>\n",
       "      <td>VVS2</td>\n",
       "    </tr>\n",
       "    <tr>\n",
       "      <th>3</th>\n",
       "      <td>Ideal</td>\n",
       "      <td>F</td>\n",
       "      <td>VS1</td>\n",
       "    </tr>\n",
       "    <tr>\n",
       "      <th>4</th>\n",
       "      <td>Ideal</td>\n",
       "      <td>F</td>\n",
       "      <td>VVS1</td>\n",
       "    </tr>\n",
       "    <tr>\n",
       "      <th>...</th>\n",
       "      <td>...</td>\n",
       "      <td>...</td>\n",
       "      <td>...</td>\n",
       "    </tr>\n",
       "    <tr>\n",
       "      <th>26962</th>\n",
       "      <td>Premium</td>\n",
       "      <td>G</td>\n",
       "      <td>SI1</td>\n",
       "    </tr>\n",
       "    <tr>\n",
       "      <th>26963</th>\n",
       "      <td>Ideal</td>\n",
       "      <td>H</td>\n",
       "      <td>IF</td>\n",
       "    </tr>\n",
       "    <tr>\n",
       "      <th>26964</th>\n",
       "      <td>Premium</td>\n",
       "      <td>E</td>\n",
       "      <td>VS2</td>\n",
       "    </tr>\n",
       "    <tr>\n",
       "      <th>26965</th>\n",
       "      <td>Very Good</td>\n",
       "      <td>F</td>\n",
       "      <td>VVS2</td>\n",
       "    </tr>\n",
       "    <tr>\n",
       "      <th>26966</th>\n",
       "      <td>Premium</td>\n",
       "      <td>J</td>\n",
       "      <td>SI1</td>\n",
       "    </tr>\n",
       "  </tbody>\n",
       "</table>\n",
       "<p>26967 rows × 3 columns</p>\n",
       "</div>"
      ],
      "text/plain": [
       "             cut color clarity\n",
       "0          Ideal     E     SI1\n",
       "1        Premium     G      IF\n",
       "2      Very Good     E    VVS2\n",
       "3          Ideal     F     VS1\n",
       "4          Ideal     F    VVS1\n",
       "...          ...   ...     ...\n",
       "26962    Premium     G     SI1\n",
       "26963      Ideal     H      IF\n",
       "26964    Premium     E     VS2\n",
       "26965  Very Good     F    VVS2\n",
       "26966    Premium     J     SI1\n",
       "\n",
       "[26967 rows x 3 columns]"
      ]
     },
     "execution_count": 8,
     "metadata": {},
     "output_type": "execute_result"
    }
   ],
   "source": [
    "X.select_dtypes(include=\"object\")"
   ]
  },
  {
   "cell_type": "code",
   "execution_count": 9,
   "metadata": {},
   "outputs": [
    {
     "data": {
      "text/html": [
       "<div>\n",
       "<style scoped>\n",
       "    .dataframe tbody tr th:only-of-type {\n",
       "        vertical-align: middle;\n",
       "    }\n",
       "\n",
       "    .dataframe tbody tr th {\n",
       "        vertical-align: top;\n",
       "    }\n",
       "\n",
       "    .dataframe thead th {\n",
       "        text-align: right;\n",
       "    }\n",
       "</style>\n",
       "<table border=\"1\" class=\"dataframe\">\n",
       "  <thead>\n",
       "    <tr style=\"text-align: right;\">\n",
       "      <th></th>\n",
       "      <th>Unnamed: 0</th>\n",
       "      <th>carat</th>\n",
       "      <th>depth</th>\n",
       "      <th>table</th>\n",
       "      <th>x</th>\n",
       "      <th>y</th>\n",
       "      <th>z</th>\n",
       "    </tr>\n",
       "  </thead>\n",
       "  <tbody>\n",
       "    <tr>\n",
       "      <th>0</th>\n",
       "      <td>1</td>\n",
       "      <td>0.30</td>\n",
       "      <td>62.1</td>\n",
       "      <td>58.0</td>\n",
       "      <td>4.27</td>\n",
       "      <td>4.29</td>\n",
       "      <td>2.66</td>\n",
       "    </tr>\n",
       "    <tr>\n",
       "      <th>1</th>\n",
       "      <td>2</td>\n",
       "      <td>0.33</td>\n",
       "      <td>60.8</td>\n",
       "      <td>58.0</td>\n",
       "      <td>4.42</td>\n",
       "      <td>4.46</td>\n",
       "      <td>2.70</td>\n",
       "    </tr>\n",
       "    <tr>\n",
       "      <th>2</th>\n",
       "      <td>3</td>\n",
       "      <td>0.90</td>\n",
       "      <td>62.2</td>\n",
       "      <td>60.0</td>\n",
       "      <td>6.04</td>\n",
       "      <td>6.12</td>\n",
       "      <td>3.78</td>\n",
       "    </tr>\n",
       "    <tr>\n",
       "      <th>3</th>\n",
       "      <td>4</td>\n",
       "      <td>0.42</td>\n",
       "      <td>61.6</td>\n",
       "      <td>56.0</td>\n",
       "      <td>4.82</td>\n",
       "      <td>4.80</td>\n",
       "      <td>2.96</td>\n",
       "    </tr>\n",
       "    <tr>\n",
       "      <th>4</th>\n",
       "      <td>5</td>\n",
       "      <td>0.31</td>\n",
       "      <td>60.4</td>\n",
       "      <td>59.0</td>\n",
       "      <td>4.35</td>\n",
       "      <td>4.43</td>\n",
       "      <td>2.65</td>\n",
       "    </tr>\n",
       "    <tr>\n",
       "      <th>...</th>\n",
       "      <td>...</td>\n",
       "      <td>...</td>\n",
       "      <td>...</td>\n",
       "      <td>...</td>\n",
       "      <td>...</td>\n",
       "      <td>...</td>\n",
       "      <td>...</td>\n",
       "    </tr>\n",
       "    <tr>\n",
       "      <th>26962</th>\n",
       "      <td>26963</td>\n",
       "      <td>1.11</td>\n",
       "      <td>62.3</td>\n",
       "      <td>58.0</td>\n",
       "      <td>6.61</td>\n",
       "      <td>6.52</td>\n",
       "      <td>4.09</td>\n",
       "    </tr>\n",
       "    <tr>\n",
       "      <th>26963</th>\n",
       "      <td>26964</td>\n",
       "      <td>0.33</td>\n",
       "      <td>61.9</td>\n",
       "      <td>55.0</td>\n",
       "      <td>4.44</td>\n",
       "      <td>4.42</td>\n",
       "      <td>2.74</td>\n",
       "    </tr>\n",
       "    <tr>\n",
       "      <th>26964</th>\n",
       "      <td>26965</td>\n",
       "      <td>0.51</td>\n",
       "      <td>61.7</td>\n",
       "      <td>58.0</td>\n",
       "      <td>5.12</td>\n",
       "      <td>5.15</td>\n",
       "      <td>3.17</td>\n",
       "    </tr>\n",
       "    <tr>\n",
       "      <th>26965</th>\n",
       "      <td>26966</td>\n",
       "      <td>0.27</td>\n",
       "      <td>61.8</td>\n",
       "      <td>56.0</td>\n",
       "      <td>4.19</td>\n",
       "      <td>4.20</td>\n",
       "      <td>2.60</td>\n",
       "    </tr>\n",
       "    <tr>\n",
       "      <th>26966</th>\n",
       "      <td>26967</td>\n",
       "      <td>1.25</td>\n",
       "      <td>62.0</td>\n",
       "      <td>58.0</td>\n",
       "      <td>6.90</td>\n",
       "      <td>6.88</td>\n",
       "      <td>4.27</td>\n",
       "    </tr>\n",
       "  </tbody>\n",
       "</table>\n",
       "<p>26967 rows × 7 columns</p>\n",
       "</div>"
      ],
      "text/plain": [
       "       Unnamed: 0  carat  depth  table     x     y     z\n",
       "0               1   0.30   62.1   58.0  4.27  4.29  2.66\n",
       "1               2   0.33   60.8   58.0  4.42  4.46  2.70\n",
       "2               3   0.90   62.2   60.0  6.04  6.12  3.78\n",
       "3               4   0.42   61.6   56.0  4.82  4.80  2.96\n",
       "4               5   0.31   60.4   59.0  4.35  4.43  2.65\n",
       "...           ...    ...    ...    ...   ...   ...   ...\n",
       "26962       26963   1.11   62.3   58.0  6.61  6.52  4.09\n",
       "26963       26964   0.33   61.9   55.0  4.44  4.42  2.74\n",
       "26964       26965   0.51   61.7   58.0  5.12  5.15  3.17\n",
       "26965       26966   0.27   61.8   56.0  4.19  4.20  2.60\n",
       "26966       26967   1.25   62.0   58.0  6.90  6.88  4.27\n",
       "\n",
       "[26967 rows x 7 columns]"
      ]
     },
     "execution_count": 9,
     "metadata": {},
     "output_type": "execute_result"
    }
   ],
   "source": [
    "X.select_dtypes(exclude=\"object\")"
   ]
  },
  {
   "cell_type": "code",
   "execution_count": 10,
   "metadata": {},
   "outputs": [],
   "source": [
    "cat_cols=X.select_dtypes(include=\"object\").columns\n",
    "\n",
    "num_cols=X.select_dtypes(exclude=\"object\").columns"
   ]
  },
  {
   "cell_type": "code",
   "execution_count": 11,
   "metadata": {},
   "outputs": [
    {
     "data": {
      "text/plain": [
       "Index(['cut', 'color', 'clarity'], dtype='object')"
      ]
     },
     "execution_count": 11,
     "metadata": {},
     "output_type": "execute_result"
    }
   ],
   "source": [
    "cat_cols"
   ]
  },
  {
   "cell_type": "code",
   "execution_count": 12,
   "metadata": {},
   "outputs": [
    {
     "data": {
      "text/plain": [
       "Index(['Unnamed: 0', 'carat', 'depth', 'table', 'x', 'y', 'z'], dtype='object')"
      ]
     },
     "execution_count": 12,
     "metadata": {},
     "output_type": "execute_result"
    }
   ],
   "source": [
    "num_cols"
   ]
  },
  {
   "cell_type": "code",
   "execution_count": 13,
   "metadata": {},
   "outputs": [
    {
     "data": {
      "text/html": [
       "<div>\n",
       "<style scoped>\n",
       "    .dataframe tbody tr th:only-of-type {\n",
       "        vertical-align: middle;\n",
       "    }\n",
       "\n",
       "    .dataframe tbody tr th {\n",
       "        vertical-align: top;\n",
       "    }\n",
       "\n",
       "    .dataframe thead th {\n",
       "        text-align: right;\n",
       "    }\n",
       "</style>\n",
       "<table border=\"1\" class=\"dataframe\">\n",
       "  <thead>\n",
       "    <tr style=\"text-align: right;\">\n",
       "      <th></th>\n",
       "      <th>cut</th>\n",
       "      <th>color</th>\n",
       "      <th>clarity</th>\n",
       "    </tr>\n",
       "  </thead>\n",
       "  <tbody>\n",
       "    <tr>\n",
       "      <th>0</th>\n",
       "      <td>Ideal</td>\n",
       "      <td>E</td>\n",
       "      <td>SI1</td>\n",
       "    </tr>\n",
       "    <tr>\n",
       "      <th>1</th>\n",
       "      <td>Premium</td>\n",
       "      <td>G</td>\n",
       "      <td>IF</td>\n",
       "    </tr>\n",
       "    <tr>\n",
       "      <th>2</th>\n",
       "      <td>Very Good</td>\n",
       "      <td>E</td>\n",
       "      <td>VVS2</td>\n",
       "    </tr>\n",
       "    <tr>\n",
       "      <th>3</th>\n",
       "      <td>Ideal</td>\n",
       "      <td>F</td>\n",
       "      <td>VS1</td>\n",
       "    </tr>\n",
       "    <tr>\n",
       "      <th>4</th>\n",
       "      <td>Ideal</td>\n",
       "      <td>F</td>\n",
       "      <td>VVS1</td>\n",
       "    </tr>\n",
       "  </tbody>\n",
       "</table>\n",
       "</div>"
      ],
      "text/plain": [
       "         cut color clarity\n",
       "0      Ideal     E     SI1\n",
       "1    Premium     G      IF\n",
       "2  Very Good     E    VVS2\n",
       "3      Ideal     F     VS1\n",
       "4      Ideal     F    VVS1"
      ]
     },
     "execution_count": 13,
     "metadata": {},
     "output_type": "execute_result"
    }
   ],
   "source": [
    "X.select_dtypes(include=\"object\").head()"
   ]
  },
  {
   "cell_type": "code",
   "execution_count": 14,
   "metadata": {},
   "outputs": [
    {
     "data": {
      "text/plain": [
       "clarity\n",
       "SI1     6571\n",
       "VS2     6099\n",
       "SI2     4575\n",
       "VS1     4093\n",
       "VVS2    2531\n",
       "VVS1    1839\n",
       "IF       894\n",
       "I1       365\n",
       "Name: count, dtype: int64"
      ]
     },
     "execution_count": 14,
     "metadata": {},
     "output_type": "execute_result"
    }
   ],
   "source": [
    "X[\"clarity\"].value_counts()"
   ]
  },
  {
   "cell_type": "code",
   "execution_count": 15,
   "metadata": {},
   "outputs": [],
   "source": [
    "cut_categories = ['Fair', 'Good', 'Very Good','Premium','Ideal']\n",
    "color_categories = ['D', 'E', 'F', 'G', 'H', 'I', 'J']\n",
    "clarity_categories = ['I1','SI2','SI1','VS2','VS1','VVS2','VVS1','IF']"
   ]
  },
  {
   "cell_type": "code",
   "execution_count": 16,
   "metadata": {},
   "outputs": [],
   "source": [
    "num_pipeline=Pipeline(\n",
    "    steps=[\n",
    "        (\"imputer\",SimpleImputer()),\n",
    "        (\"scaler\",StandardScaler())\n",
    "    ]\n",
    ")"
   ]
  },
  {
   "cell_type": "code",
   "execution_count": 17,
   "metadata": {},
   "outputs": [],
   "source": [
    "cat_pipeline=Pipeline(\n",
    "\n",
    "    steps=[\n",
    "        (\"imputer\",SimpleImputer(strategy=\"most_frequent\")),\n",
    "        (\"ordinalencoder\",OrdinalEncoder(categories=[cut_categories,color_categories,clarity_categories]))\n",
    "\n",
    "    ]\n",
    ")"
   ]
  },
  {
   "cell_type": "code",
   "execution_count": 18,
   "metadata": {},
   "outputs": [
    {
     "data": {
      "text/plain": [
       "Index(['Unnamed: 0', 'carat', 'depth', 'table', 'x', 'y', 'z'], dtype='object')"
      ]
     },
     "execution_count": 18,
     "metadata": {},
     "output_type": "execute_result"
    }
   ],
   "source": [
    "num_cols"
   ]
  },
  {
   "cell_type": "code",
   "execution_count": 19,
   "metadata": {},
   "outputs": [
    {
     "data": {
      "text/plain": [
       "Index(['cut', 'color', 'clarity'], dtype='object')"
      ]
     },
     "execution_count": 19,
     "metadata": {},
     "output_type": "execute_result"
    }
   ],
   "source": [
    "cat_cols"
   ]
  },
  {
   "cell_type": "code",
   "execution_count": null,
   "metadata": {},
   "outputs": [],
   "source": []
  },
  {
   "cell_type": "code",
   "execution_count": 20,
   "metadata": {},
   "outputs": [],
   "source": [
    "preprocessor=ColumnTransformer(\n",
    "\n",
    "    [\n",
    "        (\"num_pipeline\",num_pipeline,num_cols),\n",
    "        (\"cat_pipeline\",cat_pipeline,cat_cols)\n",
    "    ]\n",
    ")"
   ]
  },
  {
   "cell_type": "code",
   "execution_count": 21,
   "metadata": {},
   "outputs": [
    {
     "data": {
      "text/html": [
       "<div>\n",
       "<style scoped>\n",
       "    .dataframe tbody tr th:only-of-type {\n",
       "        vertical-align: middle;\n",
       "    }\n",
       "\n",
       "    .dataframe tbody tr th {\n",
       "        vertical-align: top;\n",
       "    }\n",
       "\n",
       "    .dataframe thead th {\n",
       "        text-align: right;\n",
       "    }\n",
       "</style>\n",
       "<table border=\"1\" class=\"dataframe\">\n",
       "  <thead>\n",
       "    <tr style=\"text-align: right;\">\n",
       "      <th></th>\n",
       "      <th>Unnamed: 0</th>\n",
       "      <th>carat</th>\n",
       "      <th>cut</th>\n",
       "      <th>color</th>\n",
       "      <th>clarity</th>\n",
       "      <th>depth</th>\n",
       "      <th>table</th>\n",
       "      <th>x</th>\n",
       "      <th>y</th>\n",
       "      <th>z</th>\n",
       "    </tr>\n",
       "  </thead>\n",
       "  <tbody>\n",
       "    <tr>\n",
       "      <th>0</th>\n",
       "      <td>1</td>\n",
       "      <td>0.30</td>\n",
       "      <td>Ideal</td>\n",
       "      <td>E</td>\n",
       "      <td>SI1</td>\n",
       "      <td>62.1</td>\n",
       "      <td>58.0</td>\n",
       "      <td>4.27</td>\n",
       "      <td>4.29</td>\n",
       "      <td>2.66</td>\n",
       "    </tr>\n",
       "    <tr>\n",
       "      <th>1</th>\n",
       "      <td>2</td>\n",
       "      <td>0.33</td>\n",
       "      <td>Premium</td>\n",
       "      <td>G</td>\n",
       "      <td>IF</td>\n",
       "      <td>60.8</td>\n",
       "      <td>58.0</td>\n",
       "      <td>4.42</td>\n",
       "      <td>4.46</td>\n",
       "      <td>2.70</td>\n",
       "    </tr>\n",
       "    <tr>\n",
       "      <th>2</th>\n",
       "      <td>3</td>\n",
       "      <td>0.90</td>\n",
       "      <td>Very Good</td>\n",
       "      <td>E</td>\n",
       "      <td>VVS2</td>\n",
       "      <td>62.2</td>\n",
       "      <td>60.0</td>\n",
       "      <td>6.04</td>\n",
       "      <td>6.12</td>\n",
       "      <td>3.78</td>\n",
       "    </tr>\n",
       "    <tr>\n",
       "      <th>3</th>\n",
       "      <td>4</td>\n",
       "      <td>0.42</td>\n",
       "      <td>Ideal</td>\n",
       "      <td>F</td>\n",
       "      <td>VS1</td>\n",
       "      <td>61.6</td>\n",
       "      <td>56.0</td>\n",
       "      <td>4.82</td>\n",
       "      <td>4.80</td>\n",
       "      <td>2.96</td>\n",
       "    </tr>\n",
       "    <tr>\n",
       "      <th>4</th>\n",
       "      <td>5</td>\n",
       "      <td>0.31</td>\n",
       "      <td>Ideal</td>\n",
       "      <td>F</td>\n",
       "      <td>VVS1</td>\n",
       "      <td>60.4</td>\n",
       "      <td>59.0</td>\n",
       "      <td>4.35</td>\n",
       "      <td>4.43</td>\n",
       "      <td>2.65</td>\n",
       "    </tr>\n",
       "    <tr>\n",
       "      <th>...</th>\n",
       "      <td>...</td>\n",
       "      <td>...</td>\n",
       "      <td>...</td>\n",
       "      <td>...</td>\n",
       "      <td>...</td>\n",
       "      <td>...</td>\n",
       "      <td>...</td>\n",
       "      <td>...</td>\n",
       "      <td>...</td>\n",
       "      <td>...</td>\n",
       "    </tr>\n",
       "    <tr>\n",
       "      <th>26962</th>\n",
       "      <td>26963</td>\n",
       "      <td>1.11</td>\n",
       "      <td>Premium</td>\n",
       "      <td>G</td>\n",
       "      <td>SI1</td>\n",
       "      <td>62.3</td>\n",
       "      <td>58.0</td>\n",
       "      <td>6.61</td>\n",
       "      <td>6.52</td>\n",
       "      <td>4.09</td>\n",
       "    </tr>\n",
       "    <tr>\n",
       "      <th>26963</th>\n",
       "      <td>26964</td>\n",
       "      <td>0.33</td>\n",
       "      <td>Ideal</td>\n",
       "      <td>H</td>\n",
       "      <td>IF</td>\n",
       "      <td>61.9</td>\n",
       "      <td>55.0</td>\n",
       "      <td>4.44</td>\n",
       "      <td>4.42</td>\n",
       "      <td>2.74</td>\n",
       "    </tr>\n",
       "    <tr>\n",
       "      <th>26964</th>\n",
       "      <td>26965</td>\n",
       "      <td>0.51</td>\n",
       "      <td>Premium</td>\n",
       "      <td>E</td>\n",
       "      <td>VS2</td>\n",
       "      <td>61.7</td>\n",
       "      <td>58.0</td>\n",
       "      <td>5.12</td>\n",
       "      <td>5.15</td>\n",
       "      <td>3.17</td>\n",
       "    </tr>\n",
       "    <tr>\n",
       "      <th>26965</th>\n",
       "      <td>26966</td>\n",
       "      <td>0.27</td>\n",
       "      <td>Very Good</td>\n",
       "      <td>F</td>\n",
       "      <td>VVS2</td>\n",
       "      <td>61.8</td>\n",
       "      <td>56.0</td>\n",
       "      <td>4.19</td>\n",
       "      <td>4.20</td>\n",
       "      <td>2.60</td>\n",
       "    </tr>\n",
       "    <tr>\n",
       "      <th>26966</th>\n",
       "      <td>26967</td>\n",
       "      <td>1.25</td>\n",
       "      <td>Premium</td>\n",
       "      <td>J</td>\n",
       "      <td>SI1</td>\n",
       "      <td>62.0</td>\n",
       "      <td>58.0</td>\n",
       "      <td>6.90</td>\n",
       "      <td>6.88</td>\n",
       "      <td>4.27</td>\n",
       "    </tr>\n",
       "  </tbody>\n",
       "</table>\n",
       "<p>26967 rows × 10 columns</p>\n",
       "</div>"
      ],
      "text/plain": [
       "       Unnamed: 0  carat        cut color clarity  depth  table     x     y  \\\n",
       "0               1   0.30      Ideal     E     SI1   62.1   58.0  4.27  4.29   \n",
       "1               2   0.33    Premium     G      IF   60.8   58.0  4.42  4.46   \n",
       "2               3   0.90  Very Good     E    VVS2   62.2   60.0  6.04  6.12   \n",
       "3               4   0.42      Ideal     F     VS1   61.6   56.0  4.82  4.80   \n",
       "4               5   0.31      Ideal     F    VVS1   60.4   59.0  4.35  4.43   \n",
       "...           ...    ...        ...   ...     ...    ...    ...   ...   ...   \n",
       "26962       26963   1.11    Premium     G     SI1   62.3   58.0  6.61  6.52   \n",
       "26963       26964   0.33      Ideal     H      IF   61.9   55.0  4.44  4.42   \n",
       "26964       26965   0.51    Premium     E     VS2   61.7   58.0  5.12  5.15   \n",
       "26965       26966   0.27  Very Good     F    VVS2   61.8   56.0  4.19  4.20   \n",
       "26966       26967   1.25    Premium     J     SI1   62.0   58.0  6.90  6.88   \n",
       "\n",
       "          z  \n",
       "0      2.66  \n",
       "1      2.70  \n",
       "2      3.78  \n",
       "3      2.96  \n",
       "4      2.65  \n",
       "...     ...  \n",
       "26962  4.09  \n",
       "26963  2.74  \n",
       "26964  3.17  \n",
       "26965  2.60  \n",
       "26966  4.27  \n",
       "\n",
       "[26967 rows x 10 columns]"
      ]
     },
     "execution_count": 21,
     "metadata": {},
     "output_type": "execute_result"
    }
   ],
   "source": [
    "X"
   ]
  },
  {
   "cell_type": "code",
   "execution_count": 22,
   "metadata": {},
   "outputs": [
    {
     "data": {
      "text/plain": [
       "0         499\n",
       "1         984\n",
       "2        6289\n",
       "3        1082\n",
       "4         779\n",
       "         ... \n",
       "26962    5408\n",
       "26963    1114\n",
       "26964    1656\n",
       "26965     682\n",
       "26966    5166\n",
       "Name: price, Length: 26967, dtype: int64"
      ]
     },
     "execution_count": 22,
     "metadata": {},
     "output_type": "execute_result"
    }
   ],
   "source": [
    "y"
   ]
  },
  {
   "cell_type": "code",
   "execution_count": 23,
   "metadata": {},
   "outputs": [],
   "source": [
    "from sklearn.model_selection import train_test_split\n",
    "\n",
    "X_train,X_test,y_train,y_test=train_test_split(X,y,test_size=0.30, random_state=42)"
   ]
  },
  {
   "cell_type": "code",
   "execution_count": 24,
   "metadata": {},
   "outputs": [
    {
     "data": {
      "text/plain": [
       "(8091, 10)"
      ]
     },
     "execution_count": 24,
     "metadata": {},
     "output_type": "execute_result"
    }
   ],
   "source": [
    "X_test.shape"
   ]
  },
  {
   "cell_type": "code",
   "execution_count": 25,
   "metadata": {},
   "outputs": [
    {
     "data": {
      "text/plain": [
       "19040     5567\n",
       "396      13088\n",
       "15626      544\n",
       "16597    15254\n",
       "5811       491\n",
       "Name: price, dtype: int64"
      ]
     },
     "execution_count": 25,
     "metadata": {},
     "output_type": "execute_result"
    }
   ],
   "source": [
    "y_train.head()"
   ]
  },
  {
   "cell_type": "code",
   "execution_count": 26,
   "metadata": {},
   "outputs": [
    {
     "data": {
      "text/plain": [
       "array([[ 0.71509329,  0.78796449, -0.96571264, ...,  1.        ,\n",
       "         0.        ,  1.        ],\n",
       "       [-1.6778051 ,  0.85115314, -0.4608357 , ...,  4.        ,\n",
       "         2.        ,  6.        ],\n",
       "       [ 0.2769172 , -1.02344341, -0.10020932, ...,  2.        ,\n",
       "         5.        ,  5.        ],\n",
       "       ...,\n",
       "       [-1.61825217, -0.85494035,  0.        , ...,  4.        ,\n",
       "         3.        ,  6.        ],\n",
       "       [ 0.29860781, -0.98131764, -0.4608357 , ...,  4.        ,\n",
       "         6.        ,  2.        ],\n",
       "       [ 1.30728559, -1.02344341,  0.4767929 , ...,  4.        ,\n",
       "         1.        ,  3.        ]])"
      ]
     },
     "execution_count": 26,
     "metadata": {},
     "output_type": "execute_result"
    }
   ],
   "source": [
    "preprocessor.fit_transform(X_train)"
   ]
  },
  {
   "cell_type": "code",
   "execution_count": 27,
   "metadata": {},
   "outputs": [
    {
     "data": {
      "text/plain": [
       "array([[-0.45517315,  0.64052431, -0.89358736, ...,  2.        ,\n",
       "         2.        ,  2.        ],\n",
       "       [ 1.55140127, -0.81281458,  1.27017095, ...,  1.        ,\n",
       "         1.        ,  1.        ],\n",
       "       [ 1.14903394, -1.1498207 , -1.3984643 , ...,  3.        ,\n",
       "         4.        ,  6.        ],\n",
       "       ...,\n",
       "       [ 0.55722668,  1.69366844, -1.1099632 , ...,  3.        ,\n",
       "         5.        ,  3.        ],\n",
       "       [-0.27779782, -0.56005999, -0.82146209, ...,  4.        ,\n",
       "         0.        ,  3.        ],\n",
       "       [-1.62659471, -1.00238053, -0.02808404, ...,  4.        ,\n",
       "         1.        ,  6.        ]])"
      ]
     },
     "execution_count": 27,
     "metadata": {},
     "output_type": "execute_result"
    }
   ],
   "source": [
    "preprocessor.transform(X_test)"
   ]
  },
  {
   "cell_type": "code",
   "execution_count": 28,
   "metadata": {},
   "outputs": [
    {
     "data": {
      "text/plain": [
       "array(['num_pipeline__Unnamed: 0', 'num_pipeline__carat',\n",
       "       'num_pipeline__depth', 'num_pipeline__table', 'num_pipeline__x',\n",
       "       'num_pipeline__y', 'num_pipeline__z', 'cat_pipeline__cut',\n",
       "       'cat_pipeline__color', 'cat_pipeline__clarity'], dtype=object)"
      ]
     },
     "execution_count": 28,
     "metadata": {},
     "output_type": "execute_result"
    }
   ],
   "source": [
    "preprocessor.get_feature_names_out()"
   ]
  },
  {
   "cell_type": "code",
   "execution_count": 29,
   "metadata": {},
   "outputs": [],
   "source": [
    "X_train=pd.DataFrame(preprocessor.fit_transform(X_train),columns=preprocessor.get_feature_names_out())\n",
    "X_test=pd.DataFrame(preprocessor.transform(X_test),columns=preprocessor.get_feature_names_out())"
   ]
  },
  {
   "cell_type": "code",
   "execution_count": 30,
   "metadata": {},
   "outputs": [
    {
     "data": {
      "text/html": [
       "<div>\n",
       "<style scoped>\n",
       "    .dataframe tbody tr th:only-of-type {\n",
       "        vertical-align: middle;\n",
       "    }\n",
       "\n",
       "    .dataframe tbody tr th {\n",
       "        vertical-align: top;\n",
       "    }\n",
       "\n",
       "    .dataframe thead th {\n",
       "        text-align: right;\n",
       "    }\n",
       "</style>\n",
       "<table border=\"1\" class=\"dataframe\">\n",
       "  <thead>\n",
       "    <tr style=\"text-align: right;\">\n",
       "      <th></th>\n",
       "      <th>num_pipeline__Unnamed: 0</th>\n",
       "      <th>num_pipeline__carat</th>\n",
       "      <th>num_pipeline__depth</th>\n",
       "      <th>num_pipeline__table</th>\n",
       "      <th>num_pipeline__x</th>\n",
       "      <th>num_pipeline__y</th>\n",
       "      <th>num_pipeline__z</th>\n",
       "      <th>cat_pipeline__cut</th>\n",
       "      <th>cat_pipeline__color</th>\n",
       "      <th>cat_pipeline__clarity</th>\n",
       "    </tr>\n",
       "  </thead>\n",
       "  <tbody>\n",
       "    <tr>\n",
       "      <th>0</th>\n",
       "      <td>0.715093</td>\n",
       "      <td>0.787964</td>\n",
       "      <td>-0.965713</td>\n",
       "      <td>3.365840</td>\n",
       "      <td>0.964420</td>\n",
       "      <td>0.934381</td>\n",
       "      <td>0.813401</td>\n",
       "      <td>1.0</td>\n",
       "      <td>0.0</td>\n",
       "      <td>1.0</td>\n",
       "    </tr>\n",
       "    <tr>\n",
       "      <th>1</th>\n",
       "      <td>-1.677805</td>\n",
       "      <td>0.851153</td>\n",
       "      <td>-0.460836</td>\n",
       "      <td>-1.095845</td>\n",
       "      <td>1.008892</td>\n",
       "      <td>1.041947</td>\n",
       "      <td>0.957195</td>\n",
       "      <td>4.0</td>\n",
       "      <td>2.0</td>\n",
       "      <td>6.0</td>\n",
       "    </tr>\n",
       "    <tr>\n",
       "      <th>2</th>\n",
       "      <td>0.276917</td>\n",
       "      <td>-1.023443</td>\n",
       "      <td>-0.100209</td>\n",
       "      <td>0.688829</td>\n",
       "      <td>-1.259163</td>\n",
       "      <td>-1.252793</td>\n",
       "      <td>-1.257232</td>\n",
       "      <td>2.0</td>\n",
       "      <td>5.0</td>\n",
       "      <td>5.0</td>\n",
       "    </tr>\n",
       "    <tr>\n",
       "      <th>3</th>\n",
       "      <td>0.401542</td>\n",
       "      <td>2.936379</td>\n",
       "      <td>0.548918</td>\n",
       "      <td>-0.649677</td>\n",
       "      <td>2.298570</td>\n",
       "      <td>2.252064</td>\n",
       "      <td>2.366376</td>\n",
       "      <td>4.0</td>\n",
       "      <td>5.0</td>\n",
       "      <td>1.0</td>\n",
       "    </tr>\n",
       "    <tr>\n",
       "      <th>4</th>\n",
       "      <td>-0.982807</td>\n",
       "      <td>-1.044506</td>\n",
       "      <td>0.260417</td>\n",
       "      <td>-0.203508</td>\n",
       "      <td>-1.294740</td>\n",
       "      <td>-1.279684</td>\n",
       "      <td>-1.257232</td>\n",
       "      <td>4.0</td>\n",
       "      <td>4.0</td>\n",
       "      <td>3.0</td>\n",
       "    </tr>\n",
       "    <tr>\n",
       "      <th>...</th>\n",
       "      <td>...</td>\n",
       "      <td>...</td>\n",
       "      <td>...</td>\n",
       "      <td>...</td>\n",
       "      <td>...</td>\n",
       "      <td>...</td>\n",
       "      <td>...</td>\n",
       "      <td>...</td>\n",
       "      <td>...</td>\n",
       "      <td>...</td>\n",
       "    </tr>\n",
       "    <tr>\n",
       "      <th>18871</th>\n",
       "      <td>1.040453</td>\n",
       "      <td>-0.812815</td>\n",
       "      <td>-0.677212</td>\n",
       "      <td>-0.203508</td>\n",
       "      <td>-0.850024</td>\n",
       "      <td>-0.831493</td>\n",
       "      <td>-0.897747</td>\n",
       "      <td>4.0</td>\n",
       "      <td>2.0</td>\n",
       "      <td>4.0</td>\n",
       "    </tr>\n",
       "    <tr>\n",
       "      <th>18872</th>\n",
       "      <td>-1.036841</td>\n",
       "      <td>-0.981318</td>\n",
       "      <td>-1.470590</td>\n",
       "      <td>0.688829</td>\n",
       "      <td>-1.072382</td>\n",
       "      <td>-1.073516</td>\n",
       "      <td>-1.199714</td>\n",
       "      <td>2.0</td>\n",
       "      <td>4.0</td>\n",
       "      <td>4.0</td>\n",
       "    </tr>\n",
       "    <tr>\n",
       "      <th>18873</th>\n",
       "      <td>-1.618252</td>\n",
       "      <td>-0.854940</td>\n",
       "      <td>0.000000</td>\n",
       "      <td>-0.649677</td>\n",
       "      <td>-0.947861</td>\n",
       "      <td>-0.921131</td>\n",
       "      <td>-0.912126</td>\n",
       "      <td>4.0</td>\n",
       "      <td>3.0</td>\n",
       "      <td>6.0</td>\n",
       "    </tr>\n",
       "    <tr>\n",
       "      <th>18874</th>\n",
       "      <td>0.298608</td>\n",
       "      <td>-0.981318</td>\n",
       "      <td>-0.460836</td>\n",
       "      <td>-0.649677</td>\n",
       "      <td>-1.099065</td>\n",
       "      <td>-1.055588</td>\n",
       "      <td>-1.113438</td>\n",
       "      <td>4.0</td>\n",
       "      <td>6.0</td>\n",
       "      <td>2.0</td>\n",
       "    </tr>\n",
       "    <tr>\n",
       "      <th>18875</th>\n",
       "      <td>1.307286</td>\n",
       "      <td>-1.023443</td>\n",
       "      <td>0.476793</td>\n",
       "      <td>-1.542014</td>\n",
       "      <td>-1.223585</td>\n",
       "      <td>-1.270720</td>\n",
       "      <td>-1.199714</td>\n",
       "      <td>4.0</td>\n",
       "      <td>1.0</td>\n",
       "      <td>3.0</td>\n",
       "    </tr>\n",
       "  </tbody>\n",
       "</table>\n",
       "<p>18876 rows × 10 columns</p>\n",
       "</div>"
      ],
      "text/plain": [
       "       num_pipeline__Unnamed: 0  num_pipeline__carat  num_pipeline__depth  \\\n",
       "0                      0.715093             0.787964            -0.965713   \n",
       "1                     -1.677805             0.851153            -0.460836   \n",
       "2                      0.276917            -1.023443            -0.100209   \n",
       "3                      0.401542             2.936379             0.548918   \n",
       "4                     -0.982807            -1.044506             0.260417   \n",
       "...                         ...                  ...                  ...   \n",
       "18871                  1.040453            -0.812815            -0.677212   \n",
       "18872                 -1.036841            -0.981318            -1.470590   \n",
       "18873                 -1.618252            -0.854940             0.000000   \n",
       "18874                  0.298608            -0.981318            -0.460836   \n",
       "18875                  1.307286            -1.023443             0.476793   \n",
       "\n",
       "       num_pipeline__table  num_pipeline__x  num_pipeline__y  num_pipeline__z  \\\n",
       "0                 3.365840         0.964420         0.934381         0.813401   \n",
       "1                -1.095845         1.008892         1.041947         0.957195   \n",
       "2                 0.688829        -1.259163        -1.252793        -1.257232   \n",
       "3                -0.649677         2.298570         2.252064         2.366376   \n",
       "4                -0.203508        -1.294740        -1.279684        -1.257232   \n",
       "...                    ...              ...              ...              ...   \n",
       "18871            -0.203508        -0.850024        -0.831493        -0.897747   \n",
       "18872             0.688829        -1.072382        -1.073516        -1.199714   \n",
       "18873            -0.649677        -0.947861        -0.921131        -0.912126   \n",
       "18874            -0.649677        -1.099065        -1.055588        -1.113438   \n",
       "18875            -1.542014        -1.223585        -1.270720        -1.199714   \n",
       "\n",
       "       cat_pipeline__cut  cat_pipeline__color  cat_pipeline__clarity  \n",
       "0                    1.0                  0.0                    1.0  \n",
       "1                    4.0                  2.0                    6.0  \n",
       "2                    2.0                  5.0                    5.0  \n",
       "3                    4.0                  5.0                    1.0  \n",
       "4                    4.0                  4.0                    3.0  \n",
       "...                  ...                  ...                    ...  \n",
       "18871                4.0                  2.0                    4.0  \n",
       "18872                2.0                  4.0                    4.0  \n",
       "18873                4.0                  3.0                    6.0  \n",
       "18874                4.0                  6.0                    2.0  \n",
       "18875                4.0                  1.0                    3.0  \n",
       "\n",
       "[18876 rows x 10 columns]"
      ]
     },
     "execution_count": 30,
     "metadata": {},
     "output_type": "execute_result"
    }
   ],
   "source": [
    "X_train"
   ]
  },
  {
   "cell_type": "code",
   "execution_count": 31,
   "metadata": {},
   "outputs": [
    {
     "data": {
      "text/html": [
       "<div>\n",
       "<style scoped>\n",
       "    .dataframe tbody tr th:only-of-type {\n",
       "        vertical-align: middle;\n",
       "    }\n",
       "\n",
       "    .dataframe tbody tr th {\n",
       "        vertical-align: top;\n",
       "    }\n",
       "\n",
       "    .dataframe thead th {\n",
       "        text-align: right;\n",
       "    }\n",
       "</style>\n",
       "<table border=\"1\" class=\"dataframe\">\n",
       "  <thead>\n",
       "    <tr style=\"text-align: right;\">\n",
       "      <th></th>\n",
       "      <th>num_pipeline__Unnamed: 0</th>\n",
       "      <th>num_pipeline__carat</th>\n",
       "      <th>num_pipeline__depth</th>\n",
       "      <th>num_pipeline__table</th>\n",
       "      <th>num_pipeline__x</th>\n",
       "      <th>num_pipeline__y</th>\n",
       "      <th>num_pipeline__z</th>\n",
       "      <th>cat_pipeline__cut</th>\n",
       "      <th>cat_pipeline__color</th>\n",
       "      <th>cat_pipeline__clarity</th>\n",
       "    </tr>\n",
       "  </thead>\n",
       "  <tbody>\n",
       "    <tr>\n",
       "      <th>0</th>\n",
       "      <td>-0.455173</td>\n",
       "      <td>0.640524</td>\n",
       "      <td>-0.893587</td>\n",
       "      <td>1.134997</td>\n",
       "      <td>0.822111</td>\n",
       "      <td>0.844743</td>\n",
       "      <td>0.712745</td>\n",
       "      <td>2.0</td>\n",
       "      <td>2.0</td>\n",
       "      <td>2.0</td>\n",
       "    </tr>\n",
       "    <tr>\n",
       "      <th>1</th>\n",
       "      <td>1.551401</td>\n",
       "      <td>-0.812815</td>\n",
       "      <td>1.270171</td>\n",
       "      <td>-1.095845</td>\n",
       "      <td>-0.921178</td>\n",
       "      <td>-0.894240</td>\n",
       "      <td>-0.782712</td>\n",
       "      <td>1.0</td>\n",
       "      <td>1.0</td>\n",
       "      <td>1.0</td>\n",
       "    </tr>\n",
       "    <tr>\n",
       "      <th>2</th>\n",
       "      <td>1.149034</td>\n",
       "      <td>-1.149821</td>\n",
       "      <td>-1.398464</td>\n",
       "      <td>0.688829</td>\n",
       "      <td>-1.472627</td>\n",
       "      <td>-1.467924</td>\n",
       "      <td>-1.573579</td>\n",
       "      <td>3.0</td>\n",
       "      <td>4.0</td>\n",
       "      <td>6.0</td>\n",
       "    </tr>\n",
       "    <tr>\n",
       "      <th>3</th>\n",
       "      <td>0.598041</td>\n",
       "      <td>1.525165</td>\n",
       "      <td>0.765294</td>\n",
       "      <td>-0.649677</td>\n",
       "      <td>1.418031</td>\n",
       "      <td>1.409464</td>\n",
       "      <td>1.517991</td>\n",
       "      <td>4.0</td>\n",
       "      <td>4.0</td>\n",
       "      <td>5.0</td>\n",
       "    </tr>\n",
       "    <tr>\n",
       "      <th>4</th>\n",
       "      <td>0.081702</td>\n",
       "      <td>-0.791752</td>\n",
       "      <td>0.260417</td>\n",
       "      <td>-1.095845</td>\n",
       "      <td>-0.841129</td>\n",
       "      <td>-0.822529</td>\n",
       "      <td>-0.797091</td>\n",
       "      <td>4.0</td>\n",
       "      <td>0.0</td>\n",
       "      <td>5.0</td>\n",
       "    </tr>\n",
       "    <tr>\n",
       "      <th>...</th>\n",
       "      <td>...</td>\n",
       "      <td>...</td>\n",
       "      <td>...</td>\n",
       "      <td>...</td>\n",
       "      <td>...</td>\n",
       "      <td>...</td>\n",
       "      <td>...</td>\n",
       "      <td>...</td>\n",
       "      <td>...</td>\n",
       "      <td>...</td>\n",
       "    </tr>\n",
       "    <tr>\n",
       "      <th>8086</th>\n",
       "      <td>-0.655009</td>\n",
       "      <td>-1.044506</td>\n",
       "      <td>-1.254214</td>\n",
       "      <td>1.134997</td>\n",
       "      <td>-1.241374</td>\n",
       "      <td>-1.279684</td>\n",
       "      <td>-1.357888</td>\n",
       "      <td>3.0</td>\n",
       "      <td>3.0</td>\n",
       "      <td>4.0</td>\n",
       "    </tr>\n",
       "    <tr>\n",
       "      <th>8087</th>\n",
       "      <td>-1.208954</td>\n",
       "      <td>-1.023443</td>\n",
       "      <td>-0.172335</td>\n",
       "      <td>-0.649677</td>\n",
       "      <td>-1.205797</td>\n",
       "      <td>-1.234865</td>\n",
       "      <td>-1.228473</td>\n",
       "      <td>4.0</td>\n",
       "      <td>4.0</td>\n",
       "      <td>5.0</td>\n",
       "    </tr>\n",
       "    <tr>\n",
       "      <th>8088</th>\n",
       "      <td>0.557227</td>\n",
       "      <td>1.693668</td>\n",
       "      <td>-1.109963</td>\n",
       "      <td>0.242660</td>\n",
       "      <td>1.693755</td>\n",
       "      <td>1.642523</td>\n",
       "      <td>1.489233</td>\n",
       "      <td>3.0</td>\n",
       "      <td>5.0</td>\n",
       "      <td>3.0</td>\n",
       "    </tr>\n",
       "    <tr>\n",
       "      <th>8089</th>\n",
       "      <td>-0.277798</td>\n",
       "      <td>-0.560060</td>\n",
       "      <td>-0.821462</td>\n",
       "      <td>-0.203508</td>\n",
       "      <td>-0.431990</td>\n",
       "      <td>-0.401229</td>\n",
       "      <td>-0.495124</td>\n",
       "      <td>4.0</td>\n",
       "      <td>0.0</td>\n",
       "      <td>3.0</td>\n",
       "    </tr>\n",
       "    <tr>\n",
       "      <th>8090</th>\n",
       "      <td>-1.626595</td>\n",
       "      <td>-1.002381</td>\n",
       "      <td>-0.028084</td>\n",
       "      <td>-1.095845</td>\n",
       "      <td>-1.196902</td>\n",
       "      <td>-1.181082</td>\n",
       "      <td>-1.185335</td>\n",
       "      <td>4.0</td>\n",
       "      <td>1.0</td>\n",
       "      <td>6.0</td>\n",
       "    </tr>\n",
       "  </tbody>\n",
       "</table>\n",
       "<p>8091 rows × 10 columns</p>\n",
       "</div>"
      ],
      "text/plain": [
       "      num_pipeline__Unnamed: 0  num_pipeline__carat  num_pipeline__depth  \\\n",
       "0                    -0.455173             0.640524            -0.893587   \n",
       "1                     1.551401            -0.812815             1.270171   \n",
       "2                     1.149034            -1.149821            -1.398464   \n",
       "3                     0.598041             1.525165             0.765294   \n",
       "4                     0.081702            -0.791752             0.260417   \n",
       "...                        ...                  ...                  ...   \n",
       "8086                 -0.655009            -1.044506            -1.254214   \n",
       "8087                 -1.208954            -1.023443            -0.172335   \n",
       "8088                  0.557227             1.693668            -1.109963   \n",
       "8089                 -0.277798            -0.560060            -0.821462   \n",
       "8090                 -1.626595            -1.002381            -0.028084   \n",
       "\n",
       "      num_pipeline__table  num_pipeline__x  num_pipeline__y  num_pipeline__z  \\\n",
       "0                1.134997         0.822111         0.844743         0.712745   \n",
       "1               -1.095845        -0.921178        -0.894240        -0.782712   \n",
       "2                0.688829        -1.472627        -1.467924        -1.573579   \n",
       "3               -0.649677         1.418031         1.409464         1.517991   \n",
       "4               -1.095845        -0.841129        -0.822529        -0.797091   \n",
       "...                   ...              ...              ...              ...   \n",
       "8086             1.134997        -1.241374        -1.279684        -1.357888   \n",
       "8087            -0.649677        -1.205797        -1.234865        -1.228473   \n",
       "8088             0.242660         1.693755         1.642523         1.489233   \n",
       "8089            -0.203508        -0.431990        -0.401229        -0.495124   \n",
       "8090            -1.095845        -1.196902        -1.181082        -1.185335   \n",
       "\n",
       "      cat_pipeline__cut  cat_pipeline__color  cat_pipeline__clarity  \n",
       "0                   2.0                  2.0                    2.0  \n",
       "1                   1.0                  1.0                    1.0  \n",
       "2                   3.0                  4.0                    6.0  \n",
       "3                   4.0                  4.0                    5.0  \n",
       "4                   4.0                  0.0                    5.0  \n",
       "...                 ...                  ...                    ...  \n",
       "8086                3.0                  3.0                    4.0  \n",
       "8087                4.0                  4.0                    5.0  \n",
       "8088                3.0                  5.0                    3.0  \n",
       "8089                4.0                  0.0                    3.0  \n",
       "8090                4.0                  1.0                    6.0  \n",
       "\n",
       "[8091 rows x 10 columns]"
      ]
     },
     "execution_count": 31,
     "metadata": {},
     "output_type": "execute_result"
    }
   ],
   "source": [
    "X_test"
   ]
  },
  {
   "cell_type": "code",
   "execution_count": null,
   "metadata": {},
   "outputs": [],
   "source": []
  },
  {
   "cell_type": "markdown",
   "metadata": {},
   "source": [
    "# model training"
   ]
  },
  {
   "cell_type": "code",
   "execution_count": 33,
   "metadata": {},
   "outputs": [],
   "source": [
    "\n",
    "from sklearn.ensemble import RandomForestRegressor\n",
    "from sklearn.linear_model import LinearRegression,Lasso,Ridge,ElasticNet\n",
    "from sklearn.metrics import r2_score,mean_absolute_error,mean_squared_error"
   ]
  },
  {
   "cell_type": "code",
   "execution_count": 34,
   "metadata": {},
   "outputs": [],
   "source": [
    "models={\n",
    "\n",
    "    'LinearRegression':LinearRegression(),\n",
    "    'Lasso':Lasso(),\n",
    "    'Ridge':Ridge(),\n",
    "    'Elasticnet':ElasticNet(),\n",
    "    'Randomforest':RandomForestRegressor()\n",
    "\n",
    "}"
   ]
  },
  {
   "cell_type": "code",
   "execution_count": 35,
   "metadata": {},
   "outputs": [],
   "source": [
    "trained_model_list=[]\n",
    "model_list=[]\n",
    "r2_list=[]"
   ]
  },
  {
   "cell_type": "code",
   "execution_count": 36,
   "metadata": {},
   "outputs": [
    {
     "data": {
      "text/plain": [
       "['LinearRegression', 'Lasso', 'Ridge', 'Elasticnet', 'Randomforest']"
      ]
     },
     "execution_count": 36,
     "metadata": {},
     "output_type": "execute_result"
    }
   ],
   "source": [
    "list(models)"
   ]
  },
  {
   "cell_type": "code",
   "execution_count": 37,
   "metadata": {},
   "outputs": [
    {
     "name": "stdout",
     "output_type": "stream",
     "text": [
      "LinearRegression()\n",
      "Lasso()\n",
      "Ridge()\n",
      "ElasticNet()\n",
      "RandomForestRegressor()\n"
     ]
    }
   ],
   "source": [
    "for i in range(len(list(models))):\n",
    "    model=list(models.values())[i]\n",
    "    print(model)\n",
    "    "
   ]
  },
  {
   "cell_type": "code",
   "execution_count": 38,
   "metadata": {},
   "outputs": [
    {
     "data": {
      "text/plain": [
       "dict_keys(['LinearRegression', 'Lasso', 'Ridge', 'Elasticnet', 'Randomforest'])"
      ]
     },
     "execution_count": 38,
     "metadata": {},
     "output_type": "execute_result"
    }
   ],
   "source": [
    "models.keys()"
   ]
  },
  {
   "cell_type": "code",
   "execution_count": 39,
   "metadata": {},
   "outputs": [
    {
     "data": {
      "text/html": [
       "<style>#sk-container-id-1 {color: black;}#sk-container-id-1 pre{padding: 0;}#sk-container-id-1 div.sk-toggleable {background-color: white;}#sk-container-id-1 label.sk-toggleable__label {cursor: pointer;display: block;width: 100%;margin-bottom: 0;padding: 0.3em;box-sizing: border-box;text-align: center;}#sk-container-id-1 label.sk-toggleable__label-arrow:before {content: \"▸\";float: left;margin-right: 0.25em;color: #696969;}#sk-container-id-1 label.sk-toggleable__label-arrow:hover:before {color: black;}#sk-container-id-1 div.sk-estimator:hover label.sk-toggleable__label-arrow:before {color: black;}#sk-container-id-1 div.sk-toggleable__content {max-height: 0;max-width: 0;overflow: hidden;text-align: left;background-color: #f0f8ff;}#sk-container-id-1 div.sk-toggleable__content pre {margin: 0.2em;color: black;border-radius: 0.25em;background-color: #f0f8ff;}#sk-container-id-1 input.sk-toggleable__control:checked~div.sk-toggleable__content {max-height: 200px;max-width: 100%;overflow: auto;}#sk-container-id-1 input.sk-toggleable__control:checked~label.sk-toggleable__label-arrow:before {content: \"▾\";}#sk-container-id-1 div.sk-estimator input.sk-toggleable__control:checked~label.sk-toggleable__label {background-color: #d4ebff;}#sk-container-id-1 div.sk-label input.sk-toggleable__control:checked~label.sk-toggleable__label {background-color: #d4ebff;}#sk-container-id-1 input.sk-hidden--visually {border: 0;clip: rect(1px 1px 1px 1px);clip: rect(1px, 1px, 1px, 1px);height: 1px;margin: -1px;overflow: hidden;padding: 0;position: absolute;width: 1px;}#sk-container-id-1 div.sk-estimator {font-family: monospace;background-color: #f0f8ff;border: 1px dotted black;border-radius: 0.25em;box-sizing: border-box;margin-bottom: 0.5em;}#sk-container-id-1 div.sk-estimator:hover {background-color: #d4ebff;}#sk-container-id-1 div.sk-parallel-item::after {content: \"\";width: 100%;border-bottom: 1px solid gray;flex-grow: 1;}#sk-container-id-1 div.sk-label:hover label.sk-toggleable__label {background-color: #d4ebff;}#sk-container-id-1 div.sk-serial::before {content: \"\";position: absolute;border-left: 1px solid gray;box-sizing: border-box;top: 0;bottom: 0;left: 50%;z-index: 0;}#sk-container-id-1 div.sk-serial {display: flex;flex-direction: column;align-items: center;background-color: white;padding-right: 0.2em;padding-left: 0.2em;position: relative;}#sk-container-id-1 div.sk-item {position: relative;z-index: 1;}#sk-container-id-1 div.sk-parallel {display: flex;align-items: stretch;justify-content: center;background-color: white;position: relative;}#sk-container-id-1 div.sk-item::before, #sk-container-id-1 div.sk-parallel-item::before {content: \"\";position: absolute;border-left: 1px solid gray;box-sizing: border-box;top: 0;bottom: 0;left: 50%;z-index: -1;}#sk-container-id-1 div.sk-parallel-item {display: flex;flex-direction: column;z-index: 1;position: relative;background-color: white;}#sk-container-id-1 div.sk-parallel-item:first-child::after {align-self: flex-end;width: 50%;}#sk-container-id-1 div.sk-parallel-item:last-child::after {align-self: flex-start;width: 50%;}#sk-container-id-1 div.sk-parallel-item:only-child::after {width: 0;}#sk-container-id-1 div.sk-dashed-wrapped {border: 1px dashed gray;margin: 0 0.4em 0.5em 0.4em;box-sizing: border-box;padding-bottom: 0.4em;background-color: white;}#sk-container-id-1 div.sk-label label {font-family: monospace;font-weight: bold;display: inline-block;line-height: 1.2em;}#sk-container-id-1 div.sk-label-container {text-align: center;}#sk-container-id-1 div.sk-container {/* jupyter's `normalize.less` sets `[hidden] { display: none; }` but bootstrap.min.css set `[hidden] { display: none !important; }` so we also need the `!important` here to be able to override the default hidden behavior on the sphinx rendered scikit-learn.org. See: https://github.com/scikit-learn/scikit-learn/issues/21755 */display: inline-block !important;position: relative;}#sk-container-id-1 div.sk-text-repr-fallback {display: none;}</style><div id=\"sk-container-id-1\" class=\"sk-top-container\"><div class=\"sk-text-repr-fallback\"><pre>Lasso()</pre><b>In a Jupyter environment, please rerun this cell to show the HTML representation or trust the notebook. <br />On GitHub, the HTML representation is unable to render, please try loading this page with nbviewer.org.</b></div><div class=\"sk-container\" hidden><div class=\"sk-item\"><div class=\"sk-estimator sk-toggleable\"><input class=\"sk-toggleable__control sk-hidden--visually\" id=\"sk-estimator-id-1\" type=\"checkbox\" checked><label for=\"sk-estimator-id-1\" class=\"sk-toggleable__label sk-toggleable__label-arrow\">Lasso</label><div class=\"sk-toggleable__content\"><pre>Lasso()</pre></div></div></div></div></div>"
      ],
      "text/plain": [
       "Lasso()"
      ]
     },
     "execution_count": 39,
     "metadata": {},
     "output_type": "execute_result"
    }
   ],
   "source": [
    "list(models.values())[1]"
   ]
  },
  {
   "cell_type": "code",
   "execution_count": 40,
   "metadata": {},
   "outputs": [],
   "source": [
    "def evaluate_model(true,pred):\n",
    "    r2=r2_score(true,pred)\n",
    "    mae=mean_absolute_error(true,pred)\n",
    "    mse=mean_squared_error(true,pred)\n",
    "\n",
    "    return mae, mse,r2"
   ]
  },
  {
   "cell_type": "code",
   "execution_count": 41,
   "metadata": {},
   "outputs": [
    {
     "name": "stdout",
     "output_type": "stream",
     "text": [
      "model training performance LinearRegression()\n",
      "MSE: 2518461.3372265813\n",
      "MAE: 835.8863759105554\n",
      "R2 SCORE: 0.847847836549479\n",
      "========================================\n",
      "\n",
      "\n"
     ]
    },
    {
     "name": "stderr",
     "output_type": "stream",
     "text": [
      "/Users/reenal/anaconda3/envs/mlopstest/lib/python3.8/site-packages/sklearn/linear_model/_coordinate_descent.py:628: ConvergenceWarning: Objective did not converge. You might want to increase the number of iterations, check the scale of the features or consider increasing regularisation. Duality gap: 4.557e+08, tolerance: 3.029e+07\n",
      "  model = cd_fast.enet_coordinate_descent(\n"
     ]
    },
    {
     "name": "stdout",
     "output_type": "stream",
     "text": [
      "model training performance Lasso()\n",
      "MSE: 1870799.8090826152\n",
      "MAE: 830.8083544722572\n",
      "R2 SCORE: 0.8869761333528337\n",
      "========================================\n",
      "\n",
      "\n",
      "model training performance Ridge()\n",
      "MSE: 2438514.7711333195\n",
      "MAE: 835.4807410885907\n",
      "R2 SCORE: 0.8526777868098732\n",
      "========================================\n",
      "\n",
      "\n",
      "model training performance ElasticNet()\n",
      "MSE: 2819611.623077807\n",
      "MAE: 1082.6897273144377\n",
      "R2 SCORE: 0.8296539231315085\n",
      "========================================\n",
      "\n",
      "\n",
      "model training performance RandomForestRegressor()\n",
      "MSE: 322958.873343431\n",
      "MAE: 287.97033617599806\n",
      "R2 SCORE: 0.9804885266418824\n",
      "========================================\n",
      "\n",
      "\n"
     ]
    }
   ],
   "source": [
    "for i in range(len(list(models))):\n",
    "    model=list(models.values())[i]\n",
    "    \n",
    "    model.fit(X_train,y_train)\n",
    "\n",
    "    #make_prediction\n",
    "    y_pred=model.predict(X_test)\n",
    "\n",
    "    #this is for the validaiton\n",
    "    MAE,MSE,R2=evaluate_model(y_test,y_pred)\n",
    "\n",
    "\n",
    "    print(\"model training performance\",model)\n",
    "    print(\"MSE:\", MSE)\n",
    "    print(\"MAE:\",MAE)\n",
    "    print(\"R2 SCORE:\",R2)\n",
    "\n",
    "    r2_list.append(R2)\n",
    "\n",
    "    print(\"=\"*40)\n",
    "    print(\"\\n\")\n",
    "\n",
    "    \n",
    "\n",
    "    "
   ]
  },
  {
   "cell_type": "code",
   "execution_count": 42,
   "metadata": {},
   "outputs": [
    {
     "data": {
      "text/plain": [
       "[0.847847836549479,\n",
       " 0.8869761333528337,\n",
       " 0.8526777868098732,\n",
       " 0.8296539231315085,\n",
       " 0.9804885266418824]"
      ]
     },
     "execution_count": 42,
     "metadata": {},
     "output_type": "execute_result"
    }
   ],
   "source": [
    "r2_list"
   ]
  },
  {
   "cell_type": "code",
   "execution_count": 43,
   "metadata": {},
   "outputs": [
    {
     "data": {
      "text/plain": [
       "0.9804885266418824"
      ]
     },
     "execution_count": 43,
     "metadata": {},
     "output_type": "execute_result"
    }
   ],
   "source": [
    "max(r2_list)"
   ]
  },
  {
   "cell_type": "code",
   "execution_count": 44,
   "metadata": {},
   "outputs": [],
   "source": [
    "import logging\n",
    "import os\n",
    "from datetime import datetime"
   ]
  },
  {
   "cell_type": "code",
   "execution_count": 45,
   "metadata": {},
   "outputs": [],
   "source": [
    "LOG_FILE=f\"{datetime.now().strftime('%m_%d_%Y_%H_%M_%S')}.log\"\n",
    "\n",
    "log_path=os.path.join(os.getcwd(),\"logs\")\n",
    "\n",
    "os.makedirs(log_path,exist_ok=True)\n",
    "\n",
    "LOG_FILEPATH=os.path.join(log_path,LOG_FILE)\n"
   ]
  },
  {
   "cell_type": "code",
   "execution_count": 46,
   "metadata": {},
   "outputs": [
    {
     "data": {
      "text/plain": [
       "'/Users/reenal/personal/Mlops_DVC/experiments/logs/07_04_2024_15_59_21.log'"
      ]
     },
     "execution_count": 46,
     "metadata": {},
     "output_type": "execute_result"
    }
   ],
   "source": [
    "LOG_FILEPATH"
   ]
  },
  {
   "cell_type": "code",
   "execution_count": 47,
   "metadata": {},
   "outputs": [],
   "source": [
    "logging.basicConfig(level=logging.INFO, \n",
    "                    filename=LOG_FILEPATH,\n",
    "                    format=\"[%(asctime)s] %(lineno)d %(name)s - %(levelname)s - %(message)s\"\n",
    "                    \n",
    ")\n"
   ]
  },
  {
   "cell_type": "code",
   "execution_count": 48,
   "metadata": {},
   "outputs": [],
   "source": [
    "logging.info(\"this is my test log\")"
   ]
  },
  {
   "cell_type": "code",
   "execution_count": null,
   "metadata": {},
   "outputs": [],
   "source": []
  }
 ],
 "metadata": {
  "kernelspec": {
   "display_name": "Python 3.8.18 64-bit ('env')",
   "language": "python",
   "name": "python3"
  },
  "language_info": {
   "codemirror_mode": {
    "name": "ipython",
    "version": 3
   },
   "file_extension": ".py",
   "mimetype": "text/x-python",
   "name": "python",
   "nbconvert_exporter": "python",
   "pygments_lexer": "ipython3",
   "version": "3.8.19"
  },
  "orig_nbformat": 4,
  "vscode": {
   "interpreter": {
    "hash": "6ee389b6fd5680d01c44917c1212b4c09ead7d0a63469ff6d06dd80212d603e1"
   }
  }
 },
 "nbformat": 4,
 "nbformat_minor": 2
}
